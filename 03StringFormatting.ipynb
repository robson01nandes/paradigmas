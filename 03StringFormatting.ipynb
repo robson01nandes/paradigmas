{
 "cells": [
  {
   "cell_type": "markdown",
   "metadata": {},
   "source": [
    "Formatação com placeholders"
   ]
  },
  {
   "cell_type": "code",
   "execution_count": 4,
   "metadata": {},
   "outputs": [
    {
     "name": "stdout",
     "output_type": "stream",
     "text": [
      "o valor de x é        3.14\n"
     ]
    }
   ],
   "source": [
    "x = 3.14159625\n",
    "print('o valor de x é  %10.2f' %x)\n"
   ]
  },
  {
   "cell_type": "markdown",
   "metadata": {},
   "source": [
    "Formatação com .format()"
   ]
  },
  {
   "cell_type": "code",
   "execution_count": 5,
   "metadata": {},
   "outputs": [
    {
     "name": "stdout",
     "output_type": "stream",
     "text": [
      "vou inserir alguma coisa aqui.\n"
     ]
    }
   ],
   "source": [
    "print('vou inserir {} aqui.'.format ('alguma coisa'))"
   ]
  },
  {
   "cell_type": "code",
   "execution_count": 6,
   "metadata": {},
   "outputs": [
    {
     "name": "stdout",
     "output_type": "stream",
     "text": [
      "vou inserir três coisa. A terceira coisa  a segunda aalguma coisa \n"
     ]
    }
   ],
   "source": [
    "print('vou inserir três coisa. A {2}  a {1} a{0} '.format ('alguma coisa', 'segunda', 'terceira coisa' ))"
   ]
  },
  {
   "cell_type": "code",
   "execution_count": 12,
   "metadata": {},
   "outputs": [
    {
     "name": "stdout",
     "output_type": "stream",
     "text": [
      "Fruta    | Quantidade\n"
     ]
    }
   ],
   "source": [
    "print('{0:8} | {1:9}'.format('Fruta','Quantidade'))"
   ]
  },
  {
   "cell_type": "code",
   "execution_count": 16,
   "metadata": {},
   "outputs": [
    {
     "name": "stdout",
     "output_type": "stream",
     "text": [
      "Fruta    | Quantidade\n",
      "-----    | -----    \n",
      "Maça     |       3.0\n",
      "Laranja  |        10\n"
     ]
    }
   ],
   "source": [
    "print('{0:8} | {1:9}'.format('Fruta','Quantidade'))\n",
    "print('{0:8} | {1:9}'.format('-----','-----'))\n",
    "print('{0:8} | {1:9}'.format('Maça',3.0))\n",
    "print('{0:8} | {1:9}'.format('Laranja',10))"
   ]
  },
  {
   "cell_type": "markdown",
   "metadata": {},
   "source": [
    "Formatação com f-String"
   ]
  },
  {
   "cell_type": "code",
   "execution_count": 19,
   "metadata": {},
   "outputs": [
    {
     "name": "stdout",
     "output_type": "stream",
     "text": [
      "Seu nome é josé.\n"
     ]
    }
   ],
   "source": [
    "nome='josé'\n",
    "print(f'Seu nome é {nome}.')"
   ]
  },
  {
   "cell_type": "code",
   "execution_count": 25,
   "metadata": {},
   "outputs": [
    {
     "ename": "SyntaxError",
     "evalue": "EOL while scanning string literal (<ipython-input-25-8ddd16f8a4a7>, line 3)",
     "output_type": "error",
     "traceback": [
      "\u001b[1;36m  File \u001b[1;32m\"<ipython-input-25-8ddd16f8a4a7>\"\u001b[1;36m, line \u001b[1;32m3\u001b[0m\n\u001b[1;33m    print(f'o número é (num:10.4f))\u001b[0m\n\u001b[1;37m                                   ^\u001b[0m\n\u001b[1;31mSyntaxError\u001b[0m\u001b[1;31m:\u001b[0m EOL while scanning string literal\n"
     ]
    }
   ],
   "source": [
    "num= 23.45678\n",
    "print('o numero é {0:10.4f}'.format(num))\n",
    "print(f'o número é (num:10.4f))"
   ]
  },
  {
   "cell_type": "code",
   "execution_count": null,
   "metadata": {},
   "outputs": [],
   "source": [
    "#misture com.format\n",
    "print('o numero é {0:10.4f}'.format(num))\n",
    "print(f'o número é {num:{10}.{6}}')\n"
   ]
  }
 ],
 "metadata": {
  "kernelspec": {
   "display_name": "Python 3",
   "language": "python",
   "name": "python3"
  },
  "language_info": {
   "codemirror_mode": {
    "name": "ipython",
    "version": 3
   },
   "file_extension": ".py",
   "mimetype": "text/x-python",
   "name": "python",
   "nbconvert_exporter": "python",
   "pygments_lexer": "ipython3",
   "version": "3.6.4"
  }
 },
 "nbformat": 4,
 "nbformat_minor": 2
}
